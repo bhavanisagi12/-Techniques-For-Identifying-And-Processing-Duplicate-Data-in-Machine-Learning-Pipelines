{
 "cells": [
  {
   "cell_type": "code",
   "execution_count": 5,
   "id": "1fb77c4f",
   "metadata": {},
   "outputs": [
    {
     "name": "stdout",
     "output_type": "stream",
     "text": [
      "Original dataset shape: (149, 5)\n",
      "Deduplicated dataset shape: (91, 6)\n",
      "Deduplicated dataset saved to 'deduplicated_dataset.csv'.\n"
     ]
    }
   ],
   "source": [
    "# 1. Loading the Dataset\n",
    "import pandas as pd\n",
    "from sklearn.feature_extraction.text import TfidfVectorizer\n",
    "from sklearn.metrics.pairwise import cosine_similarity\n",
    "\n",
    "file_path = r\"C:\\Users\\sharv\\AppData\\Local\\Programs\\Python\\B11\\B11\\Input.csv\"\n",
    "data = pd.read_csv(file_path)\n",
    "print(f\"Original dataset shape: {data.shape}\")\n",
    "\n",
    "\n",
    "# 2. Preprocessing: Combining & Normalizing Text\n",
    "def preprocess(row):\n",
    "    combined = f\"{row['ln']} {row['dob']} {row['gn']} {row['fn']}\"\n",
    "    return \" \".join(combined.lower().strip().split())\n",
    "\n",
    "data['Processed_Text'] = data.apply(preprocess, axis=1)\n",
    "\n",
    "\n",
    "# 3. Feature Extraction Using TF-IDF\n",
    "vectorizer = TfidfVectorizer()\n",
    "tfidf_matrix = vectorizer.fit_transform(data['Processed_Text'])\n",
    "\n",
    "\n",
    "# 4. Computing Cosine Similarity\n",
    "similarity_matrix = cosine_similarity(tfidf_matrix)\n",
    "\n",
    "\n",
    "# 5. Identifying Duplicate Records\n",
    "threshold = 0.9\n",
    "\n",
    "def find_duplicates(similarity_matrix, threshold):\n",
    "    duplicates = set()\n",
    "    for i in range(similarity_matrix.shape[0]):\n",
    "        for j in range(i + 1, similarity_matrix.shape[1]):\n",
    "            if similarity_matrix[i, j] > threshold:\n",
    "                duplicates.add(j)\n",
    "    return list(duplicates)\n",
    "\n",
    "duplicate_indices = find_duplicates(similarity_matrix, threshold)\n",
    "\n",
    "\n",
    "# 6. Removing Duplicates and Saving Cleaned Data\n",
    "data_deduplicated = data.drop(index=duplicate_indices)\n",
    "print(f\"Deduplicated dataset shape: {data_deduplicated.shape}\")\n",
    "\n",
    "data_deduplicated.to_csv(\n",
    "    r\"C:\\Users\\sharv\\AppData\\Local\\Programs\\Python\\B11\\B11\\deduplicated_dataset.csv\",\n",
    "    index=False\n",
    ")\n",
    "print(\"Deduplicated dataset saved to 'deduplicated_dataset.csv'.\")\n"
   ]
  },
  {
   "cell_type": "code",
   "execution_count": null,
   "id": "e1cfcd05",
   "metadata": {},
   "outputs": [],
   "source": []
  }
 ],
 "metadata": {
  "kernelspec": {
   "display_name": "Python 3 (ipykernel)",
   "language": "python",
   "name": "python3"
  },
  "language_info": {
   "codemirror_mode": {
    "name": "ipython",
    "version": 3
   },
   "file_extension": ".py",
   "mimetype": "text/x-python",
   "name": "python",
   "nbconvert_exporter": "python",
   "pygments_lexer": "ipython3",
   "version": "3.7.0"
  }
 },
 "nbformat": 4,
 "nbformat_minor": 5
}
